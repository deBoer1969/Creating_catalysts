{
 "cells": [
  {
   "cell_type": "markdown",
   "id": "80e37aee",
   "metadata": {},
   "source": [
    "# Step 1 making the structure using ASE"
   ]
  },
  {
   "cell_type": "markdown",
   "id": "0364c62e",
   "metadata": {},
   "source": [
    "Import all needed packages\n",
    "Genrate the crystal from crystal structure\n",
    "cut the crystal ensuring that the lattice is orientated in cell right\n",
    "multiply the cell to make more structure"
   ]
  },
  {
   "cell_type": "code",
   "execution_count": 1,
   "id": "ea7ef13b",
   "metadata": {},
   "outputs": [],
   "source": [
    "import ase\n",
    "import ase.spacegroup\n",
    "from ase.spacegroup import crystal\n",
    "from ase.visualize import view\n",
    "from ase.io import read\n",
    "\n",
    "import numpy as np\n",
    "%matplotlib notebook\n"
   ]
  },
  {
   "cell_type": "code",
   "execution_count": 10,
   "id": "0b9da5e0",
   "metadata": {},
   "outputs": [],
   "source": [
    "a = 4.61\n",
    "b = 4.61\n",
    "c = 13.12  \n",
    "\n",
    "\n",
    "\n",
    "basis_positions = [(1/3, 2/3, 0.814571), (0.360521, 1/3, 0.58333)]\n",
    "\n",
    "primitive_structure = ase.spacegroup.crystal(['Al', 'O'],\n",
    "                                basis=basis_positions,\n",
    "                                spacegroup=167,  \n",
    "                                cellpar=[a, b, c, 90, 90, 90]\n",
    "                                )\n",
    "\n",
    "AlO2_crystal_repeat=primitive_structure.repeat((5, 5, 3))\n",
    "\n",
    "AlO2_crystal_repeat.center(vacuum=10, axis=(0,1,2))"
   ]
  },
  {
   "cell_type": "code",
   "execution_count": 12,
   "id": "8495ad7b",
   "metadata": {
    "scrolled": true
   },
   "outputs": [
    {
     "data": {
      "text/plain": [
       "Cell([4.61, 4.61, 13.12])"
      ]
     },
     "execution_count": 12,
     "metadata": {},
     "output_type": "execute_result"
    }
   ],
   "source": [
    "view(AlO2_crystal_repeat)\n",
    "view(primitive_structure)\n",
    "\n",
    "AlO_repeated_structure.cell"
   ]
  },
  {
   "cell_type": "markdown",
   "id": "b47bf054",
   "metadata": {},
   "source": [
    "# Step 2 using the surface energies to make a wulffconstruct"
   ]
  },
  {
   "cell_type": "code",
   "execution_count": 13,
   "id": "aa1a3821",
   "metadata": {},
   "outputs": [],
   "source": [
    "from wulffpack import (SingleCrystal,\n",
    "                       Decahedron,\n",
    "                       Icosahedron)\n",
    "from ase.build import bulk\n",
    "from ase.io import write\n",
    "import wulffpack as wp"
   ]
  },
  {
   "cell_type": "code",
   "execution_count": 15,
   "id": "43c5d56e",
   "metadata": {
    "scrolled": true
   },
   "outputs": [
    {
     "ename": "ValueError",
     "evalue": "Vertex [-6.34470981e+15 -0.00000000e+00 -1.03616974e+32] corresponding to facet with normal [ 7.07106781e-01  7.07106781e-01 -4.32978028e-17] does not lie in the same plane as previously added vertices.",
     "output_type": "error",
     "traceback": [
      "\u001b[1;31m---------------------------------------------------------------------------\u001b[0m",
      "\u001b[1;31mValueError\u001b[0m                                Traceback (most recent call last)",
      "Cell \u001b[1;32mIn[15], line 6\u001b[0m\n\u001b[0;32m      1\u001b[0m prim \u001b[38;5;241m=\u001b[39m primitive_structure\n\u001b[0;32m      2\u001b[0m surface_energies \u001b[38;5;241m=\u001b[39m {(\u001b[38;5;241m1\u001b[39m, \u001b[38;5;241m0\u001b[39m, \u001b[38;5;241m-\u001b[39m\u001b[38;5;241m1\u001b[39m, \u001b[38;5;241m0\u001b[39m): \u001b[38;5;241m1.12\u001b[39m,\n\u001b[0;32m      3\u001b[0m                     (\u001b[38;5;241m0\u001b[39m, \u001b[38;5;241m0\u001b[39m, \u001b[38;5;241m0\u001b[39m, \u001b[38;5;241m1\u001b[39m): \u001b[38;5;241m2.25\u001b[39m,\n\u001b[0;32m      4\u001b[0m                     (\u001b[38;5;241m1\u001b[39m, \u001b[38;5;241m1\u001b[39m, \u001b[38;5;241m-\u001b[39m\u001b[38;5;241m2\u001b[39m, \u001b[38;5;241m0\u001b[39m): \u001b[38;5;241m1.06\u001b[39m}\n\u001b[1;32m----> 6\u001b[0m particle \u001b[38;5;241m=\u001b[39m \u001b[43mSingleCrystal\u001b[49m\u001b[43m(\u001b[49m\u001b[43msurface_energies\u001b[49m\u001b[43m,\u001b[49m\n\u001b[0;32m      7\u001b[0m \u001b[43m                         \u001b[49m\u001b[43mprimitive_structure\u001b[49m\u001b[38;5;241;43m=\u001b[39;49m\u001b[43mprim\u001b[49m\u001b[43m,\u001b[49m\n\u001b[0;32m      8\u001b[0m \u001b[43m                         \u001b[49m\u001b[43mnatoms\u001b[49m\u001b[38;5;241;43m=\u001b[39;49m\u001b[38;5;241;43m1600\u001b[39;49m\u001b[43m)\u001b[49m\n\u001b[0;32m      9\u001b[0m particle\u001b[38;5;241m.\u001b[39mview()\n",
      "File \u001b[1;32m~\\anaconda3\\envs\\myenv\\lib\\site-packages\\wulffpack\\single_crystal.py:57\u001b[0m, in \u001b[0;36mSingleCrystal.__init__\u001b[1;34m(self, surface_energies, primitive_structure, natoms, tol)\u001b[0m\n\u001b[0;32m     52\u001b[0m symmetries \u001b[38;5;241m=\u001b[39m get_symmetries(standardized_structure)\n\u001b[0;32m     53\u001b[0m forms \u001b[38;5;241m=\u001b[39m setup_forms(surface_energies,\n\u001b[0;32m     54\u001b[0m                     standardized_structure\u001b[38;5;241m.\u001b[39mcell\u001b[38;5;241m.\u001b[39mT,\n\u001b[0;32m     55\u001b[0m                     symmetries,\n\u001b[0;32m     56\u001b[0m                     symmetries)\n\u001b[1;32m---> 57\u001b[0m \u001b[38;5;28;43msuper\u001b[39;49m\u001b[43m(\u001b[49m\u001b[43m)\u001b[49m\u001b[38;5;241;43m.\u001b[39;49m\u001b[38;5;21;43m__init__\u001b[39;49m\u001b[43m(\u001b[49m\u001b[43mforms\u001b[49m\u001b[38;5;241;43m=\u001b[39;49m\u001b[43mforms\u001b[49m\u001b[43m,\u001b[49m\n\u001b[0;32m     58\u001b[0m \u001b[43m                 \u001b[49m\u001b[43mstandardized_structure\u001b[49m\u001b[38;5;241;43m=\u001b[39;49m\u001b[43mstandardized_structure\u001b[49m\u001b[43m,\u001b[49m\n\u001b[0;32m     59\u001b[0m \u001b[43m                 \u001b[49m\u001b[43mnatoms\u001b[49m\u001b[38;5;241;43m=\u001b[39;49m\u001b[43mnatoms\u001b[49m\u001b[43m,\u001b[49m\n\u001b[0;32m     60\u001b[0m \u001b[43m                 \u001b[49m\u001b[43mtol\u001b[49m\u001b[38;5;241;43m=\u001b[39;49m\u001b[43mtol\u001b[49m\u001b[43m)\u001b[49m\n",
      "File \u001b[1;32m~\\anaconda3\\envs\\myenv\\lib\\site-packages\\wulffpack\\core\\base_particle.py:70\u001b[0m, in \u001b[0;36mBaseParticle.__init__\u001b[1;34m(self, forms, standardized_structure, natoms, ngrains, volume_scale, tol)\u001b[0m\n\u001b[0;32m     68\u001b[0m     normal \u001b[38;5;241m*\u001b[39m\u001b[38;5;241m=\u001b[39m facets[i]\u001b[38;5;241m.\u001b[39menergy \u001b[38;5;241m/\u001b[39m np\u001b[38;5;241m.\u001b[39mdot(normal, facets[i]\u001b[38;5;241m.\u001b[39mnormal)\n\u001b[0;32m     69\u001b[0m     \u001b[38;5;28;01mfor\u001b[39;00m facet_i \u001b[38;5;129;01min\u001b[39;00m (i, j, k):\n\u001b[1;32m---> 70\u001b[0m         \u001b[43mfacets\u001b[49m\u001b[43m[\u001b[49m\u001b[43mfacet_i\u001b[49m\u001b[43m]\u001b[49m\u001b[38;5;241;43m.\u001b[39;49m\u001b[43madd_vertex\u001b[49m\u001b[43m(\u001b[49m\u001b[43mnormal\u001b[49m\u001b[38;5;241;43m.\u001b[39;49m\u001b[43mcopy\u001b[49m\u001b[43m(\u001b[49m\u001b[43m)\u001b[49m\u001b[43m)\u001b[49m\n\u001b[0;32m     72\u001b[0m \u001b[38;5;66;03m# Remove vertices that are on the line between two other vertices\u001b[39;00m\n\u001b[0;32m     73\u001b[0m \u001b[38;5;66;03m# (relevant in the Winterbottom case and some corner cases)\u001b[39;00m\n\u001b[0;32m     74\u001b[0m \u001b[38;5;28;01mfor\u001b[39;00m facet \u001b[38;5;129;01min\u001b[39;00m \u001b[38;5;28mself\u001b[39m\u001b[38;5;241m.\u001b[39m_yield_facets():\n",
      "File \u001b[1;32m~\\anaconda3\\envs\\myenv\\lib\\site-packages\\wulffpack\\core\\facet.py:65\u001b[0m, in \u001b[0;36mFacet.add_vertex\u001b[1;34m(self, vertex)\u001b[0m\n\u001b[0;32m     63\u001b[0m \u001b[38;5;28;01mif\u001b[39;00m \u001b[38;5;28mself\u001b[39m\u001b[38;5;241m.\u001b[39mvertices:\n\u001b[0;32m     64\u001b[0m     \u001b[38;5;28;01mif\u001b[39;00m \u001b[38;5;28mabs\u001b[39m(np\u001b[38;5;241m.\u001b[39mdot(vertex, \u001b[38;5;28mself\u001b[39m\u001b[38;5;241m.\u001b[39mnormal) \u001b[38;5;241m-\u001b[39m \u001b[38;5;28mself\u001b[39m\u001b[38;5;241m.\u001b[39mdistance_from_origin) \u001b[38;5;241m>\u001b[39m \u001b[38;5;28mself\u001b[39m\u001b[38;5;241m.\u001b[39mtol:\n\u001b[1;32m---> 65\u001b[0m         \u001b[38;5;28;01mraise\u001b[39;00m \u001b[38;5;167;01mValueError\u001b[39;00m(\u001b[38;5;124m'\u001b[39m\u001b[38;5;124mVertex \u001b[39m\u001b[38;5;132;01m{}\u001b[39;00m\u001b[38;5;124m corresponding to facet with normal \u001b[39m\u001b[38;5;132;01m{}\u001b[39;00m\u001b[38;5;124m \u001b[39m\u001b[38;5;124m'\u001b[39m\n\u001b[0;32m     66\u001b[0m                          \u001b[38;5;124m'\u001b[39m\u001b[38;5;124mdoes not lie in the same plane \u001b[39m\u001b[38;5;124m'\u001b[39m\n\u001b[0;32m     67\u001b[0m                          \u001b[38;5;124m'\u001b[39m\u001b[38;5;124mas previously added vertices.\u001b[39m\u001b[38;5;124m'\u001b[39m\u001b[38;5;241m.\u001b[39mformat(vertex, \u001b[38;5;28mself\u001b[39m\u001b[38;5;241m.\u001b[39mnormal))\n\u001b[0;32m     68\u001b[0m \u001b[38;5;28mself\u001b[39m\u001b[38;5;241m.\u001b[39mvertices\u001b[38;5;241m.\u001b[39mappend(vertex)\n",
      "\u001b[1;31mValueError\u001b[0m: Vertex [-6.34470981e+15 -0.00000000e+00 -1.03616974e+32] corresponding to facet with normal [ 7.07106781e-01  7.07106781e-01 -4.32978028e-17] does not lie in the same plane as previously added vertices."
     ]
    }
   ],
   "source": [
    "prim = primitive_structure\n",
    "surface_energies = {(1, 0, 0): 2.5,\n",
    "                    (1, 1, 0): 3.5,\n",
    "                    (1, 1, 1): 4.0}\n",
    "\n",
    "\n",
    "particle = SingleCrystal(surface_energies,\n",
    "                         primitive_structure=prim,\n",
    "                         natoms=1500,\n",
    "                         )\n",
    "\n",
    "particle.view()\n"
   ]
  },
  {
   "cell_type": "code",
   "execution_count": 7,
   "id": "3d67d03e",
   "metadata": {},
   "outputs": [
    {
     "ename": "NameError",
     "evalue": "name 'particle' is not defined",
     "output_type": "error",
     "traceback": [
      "\u001b[1;31m---------------------------------------------------------------------------\u001b[0m",
      "\u001b[1;31mNameError\u001b[0m                                 Traceback (most recent call last)",
      "Cell \u001b[1;32mIn[7], line 1\u001b[0m\n\u001b[1;32m----> 1\u001b[0m write(\u001b[38;5;124m'\u001b[39m\u001b[38;5;124mAl2O3_nanoparticle.cfg\u001b[39m\u001b[38;5;124m'\u001b[39m, \u001b[43mparticle\u001b[49m\u001b[38;5;241m.\u001b[39matoms)\n",
      "\u001b[1;31mNameError\u001b[0m: name 'particle' is not defined"
     ]
    }
   ],
   "source": [
    "write('Al2O3_nanoparticle.cfg', particle.atoms)\n"
   ]
  }
 ],
 "metadata": {
  "kernelspec": {
   "display_name": "Python (myenv)",
   "language": "python",
   "name": "myenv"
  },
  "language_info": {
   "codemirror_mode": {
    "name": "ipython",
    "version": 3
   },
   "file_extension": ".py",
   "mimetype": "text/x-python",
   "name": "python",
   "nbconvert_exporter": "python",
   "pygments_lexer": "ipython3",
   "version": "3.10.13"
  }
 },
 "nbformat": 4,
 "nbformat_minor": 5
}
